{
 "cells": [
  {
   "cell_type": "code",
   "execution_count": 1,
   "metadata": {},
   "outputs": [
    {
     "name": "stderr",
     "output_type": "stream",
     "text": [
      "/Home/siv33/vbo084/.conda/envs/lmlogic/lib/python3.12/site-packages/sentence_transformers/cross_encoder/CrossEncoder.py:11: TqdmWarning: IProgress not found. Please update jupyter and ipywidgets. See https://ipywidgets.readthedocs.io/en/stable/user_install.html\n",
      "  from tqdm.autonotebook import tqdm, trange\n"
     ]
    },
    {
     "name": "stdout",
     "output_type": "stream",
     "text": [
      "cuda\n"
     ]
    }
   ],
   "source": [
    "import torch\n",
    "import pandas as pd\n",
    "import numpy as np\n",
    "import os\n",
    "import regex as re\n",
    "import json\n",
    "from sentence_transformers import SentenceTransformer\n",
    "from oracles import MainOracle, ObsidianOracle\n",
    "from ragencoder import ObsidianRAG\n",
    "from prompt_templates import prompt_templates\n",
    "\n",
    "device = torch.device(\"cuda\" if torch.cuda.is_available() else \"cpu\")\n",
    "print(device)"
   ]
  },
  {
   "cell_type": "code",
   "execution_count": 2,
   "metadata": {},
   "outputs": [],
   "source": [
    "VAULT_PATH = '/Home/siv33/vbo084/VictorVault'\n",
    "RAGDB_NAME = '/Home/siv33/vbo084/ObsidianAssist/RAGVictorVaultDB'"
   ]
  },
  {
   "cell_type": "code",
   "execution_count": 6,
   "metadata": {},
   "outputs": [],
   "source": [
    "model_list = {0: 'meta-llama/Meta-Llama-3-8B-Instruct',\n",
    "              1: 'google/gemma-2-27b-it',\n",
    "              2: 'EleutherAI/gpt-neo-1.3B'}\n",
    "\n",
    "model_name = model_list[1]\n",
    "rag_model = SentenceTransformer('sentence-transformers/all-MiniLM-L6-v2')\n",
    "header_prompt = 'You are a precise and to the point assistant. Never include preambles or questions. Use proper Markdown formatting.'"
   ]
  },
  {
   "cell_type": "code",
   "execution_count": 7,
   "metadata": {},
   "outputs": [
    {
     "name": "stderr",
     "output_type": "stream",
     "text": [
      "Loading checkpoint shards: 100%|██████████| 12/12 [00:06<00:00,  1.99it/s]\n"
     ]
    }
   ],
   "source": [
    "oracle = ObsidianOracle(model_name, device, rag_model, header_prompt, VAULT_PATH, RAGDB_NAME)"
   ]
  },
  {
   "cell_type": "code",
   "execution_count": 8,
   "metadata": {},
   "outputs": [
    {
     "data": {
      "text/markdown": [
       "**Oracle Response:**  ## Analysis of your notes:\n",
       "\n",
       "**Open tasks:**\n",
       "\n",
       "* **EloGuessr:**\n",
       "    * Finish implementing the EloGuessr functionality.\n",
       "    * Improve the chunking process to handle long passages split on periods.\n",
       "    * Add a \"Pile\" page for free-form writing and categorization.\n",
       "* **ObsidianAssist:**\n",
       "    * Make ObsidianAssist more modular.\n",
       "* **General:**\n",
       "    *  Investigate query rewriting for RAG functionality.\n",
       "    *  Improve the `extract_gmorning_content` function to validate file format.\n",
       "    *  Allow the `context_answer` method to accept folders as input.\n",
       "    * Optimize the conversion from numpy arrays to torch tensors in the `rag_answer` method.\n",
       "\n",
       "**Suggestions:**\n",
       "\n",
       "* **Data Sources:**\n",
       "    * Add information about the Lichess open database and the Lichess Elite Database to the EloGuessr README.txt file.\n",
       "* **Error Handling:**\n",
       "    * Implement checks for faulty games in EloGuessr (games with less than 7 tokens).\n",
       "* **Chunking:**\n",
       "    * Consider embedding sub-chunks individually while linking them to the original passage for retrieval.\n",
       "* **Efficiency:**\n",
       "    * Explore alternative methods for converting numpy arrays to torch tensors to improve efficiency."
      ],
      "text/plain": [
       "<IPython.core.display.Markdown object>"
      ]
     },
     "metadata": {},
     "output_type": "display_data"
    }
   ],
   "source": [
    "oracle.good_morning('work', 3)"
   ]
  }
 ],
 "metadata": {
  "kernelspec": {
   "display_name": "lmlogic",
   "language": "python",
   "name": "python3"
  },
  "language_info": {
   "codemirror_mode": {
    "name": "ipython",
    "version": 3
   },
   "file_extension": ".py",
   "mimetype": "text/x-python",
   "name": "python",
   "nbconvert_exporter": "python",
   "pygments_lexer": "ipython3",
   "version": "3.12.0"
  }
 },
 "nbformat": 4,
 "nbformat_minor": 2
}

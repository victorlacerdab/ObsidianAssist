{
 "cells": [
  {
   "cell_type": "code",
   "execution_count": null,
   "metadata": {},
   "outputs": [],
   "source": [
    "import torch\n",
    "import json\n",
    "from sentence_transformers import SentenceTransformer\n",
    "from oracles import ObsidianOracle\n",
    "\n",
    "device = torch.device(\"cuda\" if torch.cuda.is_available() else \"cpu\")\n",
    "print(device)"
   ]
  },
  {
   "cell_type": "code",
   "execution_count": null,
   "metadata": {},
   "outputs": [],
   "source": [
    "# Your Obsidian Vault's Path. Provide the full path.\n",
    "VAULT_PATH = '/YourVault'\n",
    "\n",
    "# The path where the utils for RAG functionality will be saved. Provide the full path, not just the name of the folder.\n",
    "RAGDB_NAME = '/Home/RAGVaultDB' \n",
    "\n",
    "model_list = {0: 'meta-llama/Meta-Llama-3-8B-Instruct',\n",
    "              1: 'google/gemma-2-27b-it'}\n",
    "\n",
    "model_name = model_list[0]\n",
    "rag_model = SentenceTransformer('sentence-transformers/all-MiniLM-L6-v2')\n",
    "header_prompt = 'You are a precise and to the point assistant. Never include preambles or questions. Use proper Markdown formatting.'"
   ]
  },
  {
   "cell_type": "code",
   "execution_count": null,
   "metadata": {},
   "outputs": [],
   "source": [
    "oracle = ObsidianOracle(model_name, device, rag_model, header_prompt, 256, VAULT_PATH, RAGDB_NAME)"
   ]
  },
  {
   "cell_type": "code",
   "execution_count": null,
   "metadata": {},
   "outputs": [],
   "source": [
    "oracle.interact('Can you tell me about the Zettelkasten method?')"
   ]
  },
  {
   "cell_type": "code",
   "execution_count": null,
   "metadata": {},
   "outputs": [],
   "source": [
    "oracle.rag_answer('In which day did Frodo arrive in Mordor?', top_k=5)"
   ]
  },
  {
   "cell_type": "code",
   "execution_count": null,
   "metadata": {},
   "outputs": [],
   "source": [
    "oracle.context_answer('Give me suggestions on how to complete this task.', fnames=['project1.md', 'project1_todos.md'])"
   ]
  }
 ],
 "metadata": {
  "kernelspec": {
   "display_name": "lmlogic",
   "language": "python",
   "name": "python3"
  },
  "language_info": {
   "codemirror_mode": {
    "name": "ipython",
    "version": 3
   },
   "file_extension": ".py",
   "mimetype": "text/x-python",
   "name": "python",
   "nbconvert_exporter": "python",
   "pygments_lexer": "ipython3",
   "version": "3.12.0"
  }
 },
 "nbformat": 4,
 "nbformat_minor": 2
}

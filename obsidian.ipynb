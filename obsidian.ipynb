{
 "cells": [
  {
   "cell_type": "code",
   "execution_count": null,
   "metadata": {},
   "outputs": [],
   "source": [
    "import torch\n",
    "import pandas as pd\n",
    "import numpy as np\n",
    "import os\n",
    "import regex as re\n",
    "import json\n",
    "from sentence_transformers import SentenceTransformer\n",
    "from oracles import MainOracle, ObsidianOracle\n",
    "from ragencoder import ObsidianRAG\n",
    "from prompt_templates import prompt_templates\n",
    "\n",
    "device = torch.device(\"cuda\" if torch.cuda.is_available() else \"cpu\")\n",
    "print(device)"
   ]
  },
  {
   "cell_type": "code",
   "execution_count": null,
   "metadata": {},
   "outputs": [],
   "source": [
    "VAULT_PATH = '/Home/siv33/vbo084/VictorVault'\n",
    "RAGDB_NAME = '/Home/siv33/vbo084/ObsidianAssist/RAGVictorVaultDB'"
   ]
  },
  {
   "cell_type": "code",
   "execution_count": null,
   "metadata": {},
   "outputs": [],
   "source": [
    "model_list = {0: 'meta-llama/Meta-Llama-3-8B-Instruct',\n",
    "              1: 'google/gemma-2-27b-it',\n",
    "              2: 'EleutherAI/gpt-neo-1.3B'}\n",
    "\n",
    "model_name = model_list[0]\n",
    "rag_model = SentenceTransformer('sentence-transformers/all-MiniLM-L6-v2')\n",
    "header_prompt = 'You are a precise and to the point assistant. Never include preambles or questions. Use proper Markdown formatting.'"
   ]
  },
  {
   "cell_type": "code",
   "execution_count": null,
   "metadata": {},
   "outputs": [],
   "source": [
    "oracle = ObsidianOracle(model_name, device, rag_model, header_prompt, VAULT_PATH, RAGDB_NAME)"
   ]
  },
  {
   "cell_type": "code",
   "execution_count": null,
   "metadata": {},
   "outputs": [],
   "source": [
    "oracle.rag_answer('What is the relationship between Wittgenstein and art?', top_k=5)"
   ]
  },
  {
   "cell_type": "code",
   "execution_count": null,
   "metadata": {},
   "outputs": [],
   "source": [
    "oracle.good_morning('work', 5)"
   ]
  },
  {
   "cell_type": "code",
   "execution_count": null,
   "metadata": {},
   "outputs": [],
   "source": [
    "oracle.good_morning('life', 3)"
   ]
  }
 ],
 "metadata": {
  "kernelspec": {
   "display_name": "lmlogic",
   "language": "python",
   "name": "python3"
  },
  "language_info": {
   "codemirror_mode": {
    "name": "ipython",
    "version": 3
   },
   "file_extension": ".py",
   "mimetype": "text/x-python",
   "name": "python",
   "nbconvert_exporter": "python",
   "pygments_lexer": "ipython3",
   "version": "3.12.0"
  }
 },
 "nbformat": 4,
 "nbformat_minor": 2
}

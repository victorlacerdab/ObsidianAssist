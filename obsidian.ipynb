{
 "cells": [
  {
   "cell_type": "code",
   "execution_count": 1,
   "metadata": {},
   "outputs": [
    {
     "name": "stderr",
     "output_type": "stream",
     "text": [
      "/Home/siv33/vbo084/.conda/envs/lmlogic/lib/python3.12/site-packages/tqdm/auto.py:21: TqdmWarning: IProgress not found. Please update jupyter and ipywidgets. See https://ipywidgets.readthedocs.io/en/stable/user_install.html\n",
      "  from .autonotebook import tqdm as notebook_tqdm\n"
     ]
    },
    {
     "name": "stdout",
     "output_type": "stream",
     "text": [
      "cuda\n"
     ]
    }
   ],
   "source": [
    "import torch\n",
    "import pandas as pd\n",
    "import numpy as np\n",
    "import os\n",
    "import regex as re\n",
    "import json\n",
    "from oracles import MainOracle, ObsidianOracle\n",
    "from prompt_templates import prompt_templates\n",
    "\n",
    "device = torch.device(\"cuda\" if torch.cuda.is_available() else \"cpu\")\n",
    "print(device)"
   ]
  },
  {
   "cell_type": "code",
   "execution_count": 2,
   "metadata": {},
   "outputs": [],
   "source": [
    "VAULT_PATH = '/Home/siv33/vbo084/VictorVault'\n",
    "RAGDB_NAME = 'RAGVictorVaultDB'"
   ]
  },
  {
   "cell_type": "code",
   "execution_count": 3,
   "metadata": {},
   "outputs": [
    {
     "name": "stderr",
     "output_type": "stream",
     "text": [
      "Special tokens have been added in the vocabulary, make sure the associated word embeddings are fine-tuned or trained.\n",
      "Loading checkpoint shards: 100%|██████████| 4/4 [00:01<00:00,  2.18it/s]\n"
     ]
    }
   ],
   "source": [
    "model_list = {0: 'meta-llama/Meta-Llama-3-8B-Instruct',\n",
    "              1: 'google/gemma-2-27b-it'}\n",
    "\n",
    "model_name = model_list[0]\n",
    "header_prompt = 'You are a precise and to the point assistant. Never include preambles on questions. Use proper Markdown formatting.'\n",
    "oracle = ObsidianOracle(model_name, device, header_prompt, VAULT_PATH, RAGDB_NAME)"
   ]
  },
  {
   "cell_type": "code",
   "execution_count": 4,
   "metadata": {},
   "outputs": [
    {
     "name": "stderr",
     "output_type": "stream",
     "text": [
      "Setting `pad_token_id` to `eos_token_id`:128001 for open-end generation.\n"
     ]
    },
    {
     "data": {
      "text/markdown": [
       "**Oracle Response:** *Open tasks:*\n",
       "- [ ] Try to benchmark other models in the Family Ontology dataset\n",
       "- [ ] Finish EloGuessr\n",
       "- [ ] Make ObsidianAssist more modular\n",
       "- [ ] Create github repos for both EloGuessr and ObsidianAssist\n",
       "\n",
       "*Suggestions:*\n",
       "- Extend ObsidianAssist to be more custom\n",
       "- Improve padding in the ChessTokenizer class\n",
       "- Add data exploration in the EloGuesser project\n",
       "- Create a dict for special tokens in ObsidianAssist\n",
       "- Remove games that are too short in EloGuessr\n",
       "- Check syntax error for \\d in the cleaning function for EloGuessr\n",
       "- Plot some data for the EloGuessr project\n",
       "- Create the github repo for the EloGuessr"
      ],
      "text/plain": [
       "<IPython.core.display.Markdown object>"
      ]
     },
     "metadata": {},
     "output_type": "display_data"
    }
   ],
   "source": [
    "oracle.good_morning('work', 3)"
   ]
  },
  {
   "cell_type": "code",
   "execution_count": 5,
   "metadata": {},
   "outputs": [
    {
     "name": "stderr",
     "output_type": "stream",
     "text": [
      "Setting `pad_token_id` to `eos_token_id`:128001 for open-end generation.\n"
     ]
    },
    {
     "data": {
      "text/markdown": [
       "**Oracle Response:** *Open tasks:*\n",
       "- [ ] Try to benchmark other models in the Family Ontology dataset:\n",
       "- [ ] Finish the Guess the ELO project\n",
       "- [ ] Inquire about the Norwegian Society exam\n",
       "- [ ] Start going to the gym\n",
       "- [ ] Help Dasha book her hotel\n",
       "- [ ] Hike accross Vidden tomorrow\n",
       "\n",
       "*Suggestions:*\n",
       "- Improve work-life balance\n",
       "- Explore new ideas\n",
       "- Be more mindful of surroundings"
      ],
      "text/plain": [
       "<IPython.core.display.Markdown object>"
      ]
     },
     "metadata": {},
     "output_type": "display_data"
    }
   ],
   "source": [
    "oracle.good_morning('life', 3)"
   ]
  }
 ],
 "metadata": {
  "kernelspec": {
   "display_name": "lmlogic",
   "language": "python",
   "name": "python3"
  },
  "language_info": {
   "codemirror_mode": {
    "name": "ipython",
    "version": 3
   },
   "file_extension": ".py",
   "mimetype": "text/x-python",
   "name": "python",
   "nbconvert_exporter": "python",
   "pygments_lexer": "ipython3",
   "version": "3.12.0"
  }
 },
 "nbformat": 4,
 "nbformat_minor": 2
}

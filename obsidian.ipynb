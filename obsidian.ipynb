{
 "cells": [
  {
   "cell_type": "code",
   "execution_count": 1,
   "metadata": {},
   "outputs": [
    {
     "name": "stderr",
     "output_type": "stream",
     "text": [
      "/Home/siv33/vbo084/.conda/envs/lmlogic/lib/python3.12/site-packages/sentence_transformers/cross_encoder/CrossEncoder.py:11: TqdmWarning: IProgress not found. Please update jupyter and ipywidgets. See https://ipywidgets.readthedocs.io/en/stable/user_install.html\n",
      "  from tqdm.autonotebook import tqdm, trange\n"
     ]
    },
    {
     "name": "stdout",
     "output_type": "stream",
     "text": [
      "cuda\n"
     ]
    }
   ],
   "source": [
    "import torch\n",
    "import pandas as pd\n",
    "import numpy as np\n",
    "import os\n",
    "import regex as re\n",
    "import json\n",
    "from sentence_transformers import SentenceTransformer\n",
    "from oracles import MainOracle, ObsidianOracle\n",
    "from ragencoder import ObsidianRAG\n",
    "from prompt_templates import prompt_templates\n",
    "\n",
    "device = torch.device(\"cuda\" if torch.cuda.is_available() else \"cpu\")\n",
    "print(device)"
   ]
  },
  {
   "cell_type": "code",
   "execution_count": 2,
   "metadata": {},
   "outputs": [],
   "source": [
    "VAULT_PATH = '/Home/siv33/vbo084/VictorVault'\n",
    "RAGDB_NAME = '/Home/siv33/vbo084/ObsidianAssist/RAGVictorVaultDB'"
   ]
  },
  {
   "cell_type": "code",
   "execution_count": 3,
   "metadata": {},
   "outputs": [],
   "source": [
    "model_list = {0: 'meta-llama/Meta-Llama-3-8B-Instruct',\n",
    "              1: 'google/gemma-2-27b-it'}\n",
    "\n",
    "model_name = model_list[0]\n",
    "rag_model = SentenceTransformer('sentence-transformers/all-MiniLM-L6-v2')\n",
    "header_prompt = 'You are a precise and to the point assistant. Never include preambles or questions. Use proper Markdown formatting.'"
   ]
  },
  {
   "cell_type": "code",
   "execution_count": null,
   "metadata": {},
   "outputs": [],
   "source": [
    "tknized = rag_model.tokenize('I am.')\n",
    "tknized['input_ids'], tknized['input_ids'].shape"
   ]
  },
  {
   "cell_type": "code",
   "execution_count": null,
   "metadata": {},
   "outputs": [],
   "source": [
    "tknized_len = tknized['input_ids'].shape[0]\n",
    "tknized_len"
   ]
  },
  {
   "cell_type": "code",
   "execution_count": null,
   "metadata": {},
   "outputs": [],
   "source": []
  },
  {
   "cell_type": "code",
   "execution_count": null,
   "metadata": {},
   "outputs": [],
   "source": [
    "oracle = ObsidianOracle(model_name, rag_model, device, header_prompt, VAULT_PATH, RAGDB_NAME)"
   ]
  },
  {
   "cell_type": "code",
   "execution_count": null,
   "metadata": {},
   "outputs": [],
   "source": [
    "oracle.good_morning('work', 5)"
   ]
  },
  {
   "cell_type": "code",
   "execution_count": null,
   "metadata": {},
   "outputs": [],
   "source": [
    "oracle.good_morning('life', 3)"
   ]
  }
 ],
 "metadata": {
  "kernelspec": {
   "display_name": "lmlogic",
   "language": "python",
   "name": "python3"
  },
  "language_info": {
   "codemirror_mode": {
    "name": "ipython",
    "version": 3
   },
   "file_extension": ".py",
   "mimetype": "text/x-python",
   "name": "python",
   "nbconvert_exporter": "python",
   "pygments_lexer": "ipython3",
   "version": "3.12.0"
  }
 },
 "nbformat": 4,
 "nbformat_minor": 2
}
